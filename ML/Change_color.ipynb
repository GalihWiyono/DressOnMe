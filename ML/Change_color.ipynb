{
 "cells": [
  {
   "cell_type": "code",
   "execution_count": 1,
   "id": "6d828ece",
   "metadata": {},
   "outputs": [],
   "source": [
    "import numpy as np\n",
    "import pandas as pd\n",
    "import os\n",
    "import cv2\n",
    "\n",
    "DATA_DIR = 'dataset/'\n",
    "\n",
    "input_dict = pd.read_csv(os.path.join(DATA_DIR, 'class_dict_copy.csv'))\n",
    "\n",
    "output = [210, 225, 27]\n",
    "\n",
    "# im = cv2.imread(\"dataset/labels/pixel_level_labels_colored/0001.png\")\n",
    "# im = cv2.cvtColor(im, cv2.COLOR_BGR2RGB)\n",
    "# im[np.where((im == sweater).all(axis=2))] = output\n",
    "# im[np.where((im == skirts).all(axis=2))] = output\n",
    "# im[np.where((im == socks).all(axis=2))] = output\n",
    "# im[np.where((im == shoes).all(axis=2))] = output\n",
    "\n",
    "# im = cv2.cvtColor(im, cv2.COLOR_RGB2BGR)\n",
    "# cv2.imwrite(\"testResult/0001.png\", im)\n",
    "\n",
    "#print(\"Test\")"
   ]
  },
  {
   "cell_type": "code",
   "execution_count": 3,
   "id": "3ce63802",
   "metadata": {},
   "outputs": [
    {
     "name": "stdout",
     "output_type": "stream",
     "text": [
      "SELESAIIIIIIIIIIIIIIIIIIIIIIIIIIIIIIII\n"
     ]
    }
   ],
   "source": [
    "\n",
    "input_rgb_values = input_dict[['r','g','b']].values.tolist()\n",
    "\n",
    "images = os.listdir(\"dataset/labels/pixel_level_labels_colored\")\n",
    "\n",
    "for image in images:\n",
    "    img = cv2.imread(os.path.join(\"dataset/labels/pixel_level_labels_colored/\", image))\n",
    "    img = cv2.cvtColor(img, cv2.COLOR_BGR2RGB)\n",
    "    \n",
    "    for color in input_rgb_values:\n",
    "        img[np.where((img == color).all(axis=2))] = output\n",
    "        \n",
    "    img = cv2.cvtColor(img, cv2.COLOR_RGB2BGR)\n",
    "    cv2.imwrite(os.path.join(\"dataset/new_labels/\", image), img)\n",
    "print(\"SELESAIIIIIIIIIIIIIIIIIIIIIIIIIIIIIIII\")"
   ]
  },
  {
   "cell_type": "code",
   "execution_count": null,
   "id": "953d38a5",
   "metadata": {},
   "outputs": [],
   "source": []
  },
  {
   "cell_type": "code",
   "execution_count": null,
   "id": "afaf16a7",
   "metadata": {},
   "outputs": [],
   "source": []
  }
 ],
 "metadata": {
  "kernelspec": {
   "display_name": "Python 3 (ipykernel)",
   "language": "python",
   "name": "python3"
  },
  "language_info": {
   "codemirror_mode": {
    "name": "ipython",
    "version": 3
   },
   "file_extension": ".py",
   "mimetype": "text/x-python",
   "name": "python",
   "nbconvert_exporter": "python",
   "pygments_lexer": "ipython3",
   "version": "3.9.7"
  }
 },
 "nbformat": 4,
 "nbformat_minor": 5
}
