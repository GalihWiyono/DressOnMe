{
 "cells": [
  {
   "cell_type": "code",
   "execution_count": 15,
   "id": "37edd7fe",
   "metadata": {},
   "outputs": [],
   "source": [
    "import requests\n",
    "import json\n",
    "from requests.auth import HTTPDigestAuth\n",
    "\n",
    "import certifi\n",
    "import urllib3"
   ]
  },
  {
   "cell_type": "code",
   "execution_count": 16,
   "id": "7c3f512e",
   "metadata": {},
   "outputs": [
    {
     "name": "stdout",
     "output_type": "stream",
     "text": [
      "<Response [400]>\n"
     ]
    }
   ],
   "source": [
    "login_url = 'https://restapidressonme.herokuapp.com/api/user/login'\n",
    "\n",
    "login_header = {\n",
    "    'email' : 'ml@dressonme.com',\n",
    "    'pass' : 'dressonme'\n",
    "}\n",
    "\n",
    "http = urllib3.PoolManager(cert_reqs='CERT_REQUIRED', ca_certs=certifi.where())\n",
    "\n",
    "myResponse = requests.post(login_url,\n",
    "                           data=login_header,\n",
    "                           verify =True,\n",
    "                           headers={'Content-Type': 'application/json', 'Host': 'my-rest-url.net'})\n",
    "\n",
    "print(response)"
   ]
  },
  {
   "cell_type": "code",
   "execution_count": null,
   "id": "d4b983db",
   "metadata": {},
   "outputs": [],
   "source": []
  }
 ],
 "metadata": {
  "kernelspec": {
   "display_name": "Python 3 (ipykernel)",
   "language": "python",
   "name": "python3"
  },
  "language_info": {
   "codemirror_mode": {
    "name": "ipython",
    "version": 3
   },
   "file_extension": ".py",
   "mimetype": "text/x-python",
   "name": "python",
   "nbconvert_exporter": "python",
   "pygments_lexer": "ipython3",
   "version": "3.9.7"
  }
 },
 "nbformat": 4,
 "nbformat_minor": 5
}
